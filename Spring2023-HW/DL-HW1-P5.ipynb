{
 "cells": [
  {
   "cell_type": "markdown",
   "metadata": {
    "id": "CKRRjmhbFcx7"
   },
   "source": [
    "In this problem we will train a neural network from scratch using numpy. In practice, you will never need to do this (you'd just use TensorFlow or PyTorch). But hopefully this will give us a sense of what's happening under the hood. \n",
    "\n",
    "For training/testing, we will use the standard MNIST benchmark consisting of images of handwritten images. \n",
    "\n"
   ]
  },
  {
   "cell_type": "markdown",
   "metadata": {
    "id": "k0Zpyb4xQNu2"
   },
   "source": [
    "In the second demo, we worked with autodiff. Autodiff enables us to implicitly store how to calculate the gradient when we call backward. We implemented some basic operations (addition, multiplication, power, and ReLU). In this homework problem, you will implement backprop for more complicated operations directly. Instead of using autodiff, you will manually compute the gradient of the loss function for each parameter."
   ]
  },
  {
   "cell_type": "code",
   "execution_count": 4,
   "metadata": {
    "id": "kjvPSnDA4J_w"
   },
   "outputs": [
    {
     "data": {
      "image/png": "[encoded data removed]",
      "text/plain": [
       "<Figure size 640x480 with 1 Axes>"
      ]
     },
     "metadata": {},
     "output_type": "display_data"
    }
   ],
   "source": [
    "import tensorflow as tf\n",
    "import matplotlib.pyplot as plt\n",
    "\n",
    "(x_train, y_train), (x_test, y_test) = tf.keras.datasets.mnist.load_data(path=\"mnist.npz\")\n",
    "\n",
    "plt.imshow(x_train[0],cmap='gray');"
   ]
  },
  {
   "cell_type": "markdown",
   "metadata": {
    "id": "Klx9qPmxF9jI"
   },
   "source": [
    "Loading MNIST is the only place where we will use TensorFlow; the rest of the code will be pure numpy.\n",
    "\n",
    "Let us now set up a few helper functions. We will use sigmoid activations for neurons, the softmax activation for the last layer, and the cross entropy loss."
   ]
  },
  {
   "cell_type": "code",
   "execution_count": 5,
   "metadata": {
    "id": "sdyvaUKoF7ux"
   },
   "outputs": [],
   "source": [
    "import numpy as np\n",
    "\n",
    "def sigmoid(x):\n",
    "  # Numerically stable sigmoid function based on\n",
    "  # http://timvieira.github.io/blog/post/2014/02/11/exp-normalize-trick/\n",
    "  \n",
    "  x = np.clip(x, -500, 500) # We get an overflow warning without this\n",
    "  \n",
    "  return np.where(\n",
    "    x >= 0,\n",
    "    1 / (1 + np.exp(-x)),\n",
    "    np.exp(x) / (1 + np.exp(x))\n",
    "  )\n",
    "\n",
    "def dsigmoid(x): # Derivative of sigmoid\n",
    "    return sigmoid(x) * (1 - sigmoid(x))\n",
    "\n",
    "def softmax(x):\n",
    "    # Numerically stable softmax based on (same source as sigmoid)\n",
    "    # http://timvieira.github.io/blog/post/2014/02/11/exp-normalize-trick/\n",
    "    b = x.max()\n",
    "    y = np.exp(x - b)\n",
    "    return y / y.sum()\n",
    "\n",
    "def cross_entropy_loss(y, yHat):\n",
    "    return -np.sum(y * np.log(yHat))\n",
    "\n",
    "def integer_to_one_hot(x, max):\n",
    "    # x: integer to convert to one hot encoding\n",
    "    # max: the size of the one hot encoded array\n",
    "    result = np.zeros(10)\n",
    "    result[x] = 1\n",
    "    return result"
   ]
  },
  {
   "cell_type": "markdown",
   "metadata": {
    "id": "_xIZEupTHyNM"
   },
   "source": [
    "OK, we are now ready to build and train our model. The input is an image of size 28x28, and the output is one of 10 classes. So, first: \n",
    "\n",
    "Q1. Initialize a 2-hidden layer neural network with 32 neurons in each hidden layer, i.e., your layer sizes should be: \n",
    "\n",
    "784 -> 32 -> 32 -> 10\n",
    "\n",
    "If the layer is $n_{in} \\times n_{out}$ your layer weights should be initialized by sampling from a normal distribution with mean zero and variance 1/$\\max(n_{in},n_{out})$."
   ]
  },
  {
   "cell_type": "code",
   "execution_count": 6,
   "metadata": {
    "id": "zBeGvbu6FaM_"
   },
   "outputs": [],
   "source": [
    "import math\n",
    "\n",
    "# Initializing weights of each layer with a normal distribution of mean 0 and\n",
    "# standard deviation 1/sqrt(n), where n is the number of inputs.\n",
    "# This means the weighted input will be a random variable itself with mean\n",
    "# 0 and standard deviation close to 1 (if biases are initialized as 0, standard\n",
    "# deviation will be exactly 1)\n",
    "\n",
    "from numpy.random import default_rng\n",
    "\n",
    "rng = default_rng(80085)\n",
    "\n",
    "# Initialization of hyperparameters\n",
    "# Input features\n",
    "input_size = 784\n",
    "# Hidden layers\n",
    "hidden_size = 32\n",
    "# Output layer\n",
    "output_size = 10\n",
    "\n",
    "# Calculating weights - Normal distribution \n",
    "w1 = rng.normal(0, 1/math.sqrt(max(input_size, hidden_size)), size=(input_size, hidden_size))\n",
    "w2 = rng.normal(0, 1/math.sqrt(max(hidden_size, hidden_size)), size=(hidden_size, hidden_size))\n",
    "w3 = rng.normal(0, 1/math.sqrt(max(hidden_size, output_size)), size=(hidden_size, output_size))\n",
    "\n",
    "# Setting bias values\n",
    "b1 = np.zeros(hidden_size)\n",
    "b2 = np.zeros(hidden_size)\n",
    "b3 = np.zeros(output_size)\n",
    "\n",
    "# Formating as vector\n",
    "weights = [w1, w2, w3]\n",
    "biases = [b1, b2, b3]\n"
   ]
  },
  {
   "cell_type": "markdown",
   "metadata": {
    "id": "IafUGD_VGeLh"
   },
   "source": [
    "Next, we will set up the forward pass. We will implement this by looping over the layers and successively computing the activations of each layer. \n",
    "\n",
    "Q2. Implement the forward pass for a single sample, and for the entire dataset.\n",
    "\n",
    "\n",
    "Right now, your network weights should be random, so doing a forward pass with the data should not give you any meaningful information. Therefore, in the last line, when you calculate test accuracy, it should be somewhere around 1/10 (i.e., a random guess)."
   ]
  },
  {
   "cell_type": "code",
   "execution_count": 9,
   "metadata": {
    "id": "cd6jGroQGdOF"
   },
   "outputs": [
    {
     "name": "stdout",
     "output_type": "stream",
     "text": [
      "Feeding forward all test data...\n",
      "\n",
      "Average loss: 2.37\n",
      "Accuracy (# of correct guesses): 993.800465279734 / 10000 ( 9.94 %)\n",
      "\n"
     ]
    }
   ],
   "source": [
    "# 'feed_forward_sample' performs the forward pass for a single sample\n",
    "\n",
    "def feed_forward_sample(sample, y):\n",
    "    \"\"\" Forward pass through the neural network.\n",
    "        Inputs:\n",
    "        sample: 1D numpy array. The input sample (an MNIST digit).\n",
    "        label: An integer from 0 to 9.\n",
    "\n",
    "        Returns: the cross entropy loss, most likely class\n",
    "    \"\"\"\n",
    "    \n",
    "    # Forward pass through the network\n",
    "    z1 = np.dot(sample, w1) + b1\n",
    "    a1 = sigmoid(z1)\n",
    "\n",
    "    z2 = np.dot(a1, w2) + b2\n",
    "    a2 = sigmoid(z2)\n",
    "\n",
    "    z3 = np.dot(a2, w3) + b3\n",
    "    a3 = softmax(z3)\n",
    "\n",
    "    # Return the activations of each layer\n",
    "    return a1, a2, a3\n",
    "\n",
    "# 'feed_forward_dataset' performs the forward pass for the entire dataset\n",
    "def feed_forward_dataset(x, y):\n",
    "    losses = np.empty(x.shape[0])\n",
    "    one_hot_guesses = np.empty((x.shape[0], 10))\n",
    "    \n",
    "    for i in range(x.shape[0]):\n",
    "        sample = x[i].flatten()\n",
    "        y_one_hot = integer_to_one_hot(y[i], output_size)\n",
    "        a1, a2, a3 = feed_forward_sample(sample,y[i])\n",
    "        \n",
    "        one_hot_guesses[i] = a3\n",
    "        losses[i] = cross_entropy_loss(y_one_hot, a3)\n",
    "\n",
    "    y_one_hot = np.zeros((y.size, 10))\n",
    "    y_one_hot[np.arange(y.size), y] = 1\n",
    "\n",
    "    correct_guesses = np.sum(y_one_hot * one_hot_guesses)\n",
    "    correct_guess_percent = format((correct_guesses / y.shape[0]) * 100, \".2f\")\n",
    "    \n",
    "    print(\"\\nAverage loss:\", np.round(np.average(losses), decimals=2))\n",
    "    print(\"Accuracy (# of correct guesses):\", correct_guesses, \"/\", y.shape[0], \"(\", correct_guess_percent, \"%)\")\n",
    "\n",
    "def feed_forward_training_data():\n",
    "    print(\"Feeding forward all training data...\")\n",
    "    feed_forward_dataset(x_train, y_train)\n",
    "    print(\"\")\n",
    "\n",
    "def feed_forward_test_data():\n",
    "    print(\"Feeding forward all test data...\")\n",
    "    feed_forward_dataset(x_test, y_test)\n",
    "    print(\"\")\n",
    "\n",
    "feed_forward_test_data()"
   ]
  },
  {
   "cell_type": "markdown",
   "metadata": {
    "id": "sSrlc2VLOi8L"
   },
   "source": [
    "OK, now we will implement the backward pass using backpropagation. We will keep it simple and just do training sample-by-sample (no minibatching, no randomness).\n",
    "\n",
    "Q3: Compute the gradient of all the weights and biases by backpropagating derivatives all the way from the output to the first layer. \n",
    "\n",
    "\n",
    "\n"
   ]
  },
  {
   "cell_type": "code",
   "execution_count": 11,
   "metadata": {
    "id": "BLLEsVdcOgzi"
   },
   "outputs": [],
   "source": [
    "def train_one_sample(sample, y, learning_rate=0.003):\n",
    "    # We defined the global variables so that the updated weights and biases can be used in subsequent training iterations\n",
    "    global w1, w2, w3, b1, b2, b3\n",
    "    a = sample.flatten()\n",
    "\n",
    "  # We will store each layer's activations to calculate gradient\n",
    "    activations = []\n",
    "\n",
    "  # Forward pass\n",
    "    z1 = np.dot(a, w1) + b1\n",
    "    a1 = sigmoid(z1)\n",
    "\n",
    "    z2 = np.dot(a1, w2) + b2\n",
    "    a2 = sigmoid(z2)\n",
    "\n",
    "    z3 = np.dot(a2, w3) + b3\n",
    "    a3 = softmax(z3)\n",
    "\n",
    "  # Q3. This should be the same as what you did in feed_forward_sample above.\n",
    "  # ...\n",
    "\n",
    "  # Backward pass - we need to use the sigmoid derivative to do backwardpass\n",
    "    d3 = a3 - integer_to_one_hot(y, output_size)\n",
    "    d2 = np.dot(w3, d3) * dsigmoid(z2)\n",
    "    d1 = np.dot(w2, d2) * dsigmoid(z1)\n",
    "\n",
    "    weight_gradients = [np.outer(a, d1), np.outer(a1, d2), np.outer(a2, d3)]\n",
    "    bias_gradients = [d1, d2, d3]\n",
    "  # Q3. Implement backpropagation by backward-stepping gradients through each layer.\n",
    "  # You may need to be careful to make sure your Jacobian matrices are the right shape.\n",
    "  # At the end, you should get two vectors: weight_gradients and bias_gradients.\n",
    "  # ...\n",
    "\n",
    "  # Update weights & biases based on your calculated gradient\n",
    "    w1 -= weight_gradients[0] * learning_rate\n",
    "    w2 -= weight_gradients[1] * learning_rate\n",
    "    w3 -= weight_gradients[2] * learning_rate\n",
    "    b1 -= bias_gradients[0] * learning_rate\n",
    "    b2 -= bias_gradients[1] * learning_rate\n",
    "    b3 -= bias_gradients[2] * learning_rate\n"
   ]
  },
  {
   "cell_type": "markdown",
   "metadata": {
    "id": "6AXY27pOB9cW"
   },
   "source": [
    "Finally, train for 3 epochs by looping over the entire training dataset 3 times.\n",
    "\n",
    "Q4. Train your model for 3 epochs."
   ]
  },
  {
   "cell_type": "code",
   "execution_count": 14,
   "metadata": {
    "id": "8Ygk05FcB-rL"
   },
   "outputs": [
    {
     "name": "stdout",
     "output_type": "stream",
     "text": [
      "Feeding forward all test data...\n",
      "\n",
      "Average loss: 2.37\n",
      "Accuracy (# of correct guesses): 993.800465279734 / 10000 ( 9.94 %)\n",
      "\n",
      "Training for one epoch over the training dataset...\n",
      "Finished training.\n",
      "\n",
      "Feeding forward all test data...\n",
      "\n",
      "Average loss: 0.91\n",
      "Accuracy (# of correct guesses): 5093.4399314786415 / 10000 ( 50.93 %)\n",
      "\n",
      "Training for one epoch over the training dataset...\n",
      "Finished training.\n",
      "\n",
      "Feeding forward all test data...\n",
      "\n",
      "Average loss: 0.98\n",
      "Accuracy (# of correct guesses): 4907.7348022412 / 10000 ( 49.08 %)\n",
      "\n",
      "Training for one epoch over the training dataset...\n",
      "Finished training.\n",
      "\n",
      "Feeding forward all test data...\n",
      "\n",
      "Average loss: 0.94\n",
      "Accuracy (# of correct guesses): 5356.486875959199 / 10000 ( 53.56 %)\n",
      "\n"
     ]
    }
   ],
   "source": [
    "def train_one_epoch(learning_rate=0.003):\n",
    "    print(\"Training for one epoch over the training dataset...\")\n",
    "  \n",
    "  # Q4. Write the training loop over the epoch here.\n",
    "  # ...\n",
    "    for i in range(len(x_train)):\n",
    "        sample = x_train[i]\n",
    "        y = y_train[i]\n",
    "        train_one_sample(sample, y, learning_rate)\n",
    "    print(\"Finished training.\\n\")\n",
    "\n",
    "\n",
    "feed_forward_test_data()\n",
    "\n",
    "def test_and_train():\n",
    "    train_one_epoch()\n",
    "    feed_forward_test_data()\n",
    "\n",
    "for i in range(3): \n",
    "    test_and_train()"
   ]
  },
  {
   "cell_type": "markdown",
   "metadata": {
    "id": "IKzEn_lyCAIe"
   },
   "source": [
    "\n",
    "That's it! \n",
    "\n",
    "Your code is probably very time- and memory-inefficient; that's ok. There is a ton of optimization under the hood in professional deep learning frameworks which we won't get into.\n",
    "\n",
    "If everything is working well, you should be able to raise the accuracy from ~10% to ~70% accuracy after 3 epochs."
   ]
  }
 ],
 "metadata": {
  "colab": {
   "collapsed_sections": [],
   "provenance": []
  },
  "kernelspec": {
   "display_name": "Python 3 (ipykernel)",
   "language": "python",
   "name": "python3"
  },
  "language_info": {
   "codemirror_mode": {
    "name": "ipython",
    "version": 3
   },
   "file_extension": ".py",
   "mimetype": "text/x-python",
   "name": "python",
   "nbconvert_exporter": "python",
   "pygments_lexer": "ipython3",
   "version": "3.7.13"
  }
 },
 "nbformat": 4,
 "nbformat_minor": 1
}
